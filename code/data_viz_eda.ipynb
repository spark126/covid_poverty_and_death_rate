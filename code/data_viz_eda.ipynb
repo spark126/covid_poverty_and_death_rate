{
 "cells": [
  {
   "cell_type": "code",
   "execution_count": null,
   "id": "870cafec",
   "metadata": {
    "ExecuteTime": {
     "end_time": "2021-06-14T03:15:40.625316Z",
     "start_time": "2021-06-14T03:15:40.614967Z"
    }
   },
   "outputs": [],
   "source": [
    "import pandas as pd\n",
    "import numpy as np\n",
    "import seaborn as sns\n",
    "import matplotlib.pyplot as plt\n",
    "\n",
    "import plotly #used plotly graphing library for maps\n",
    "import plotly.express as px\n",
    "import plotly.graph_objects as go "
   ]
  },
  {
   "cell_type": "markdown",
   "id": "28dee5fb",
   "metadata": {},
   "source": [
    "### EDA / Data Viz (Output cleared because of file size. Visuals are in `visuals` folder"
   ]
  },
  {
   "cell_type": "code",
   "execution_count": null,
   "id": "382a6a96",
   "metadata": {
    "ExecuteTime": {
     "end_time": "2021-06-14T03:15:41.746154Z",
     "start_time": "2021-06-14T03:15:41.607481Z"
    }
   },
   "outputs": [],
   "source": [
    "final_df = pd.read_csv('../data/cleaned_merged_df.csv')"
   ]
  },
  {
   "cell_type": "code",
   "execution_count": null,
   "id": "37205c09",
   "metadata": {
    "ExecuteTime": {
     "end_time": "2021-06-14T03:15:41.871610Z",
     "start_time": "2021-06-14T03:15:41.867412Z"
    }
   },
   "outputs": [],
   "source": [
    "final_df.rename(columns={'Unnamed: 0': 'fips_code'}, inplace=True)"
   ]
  },
  {
   "cell_type": "markdown",
   "id": "aa5ade3a",
   "metadata": {},
   "source": [
    "**Function to build heatmap correlations**"
   ]
  },
  {
   "cell_type": "code",
   "execution_count": null,
   "id": "454ed057",
   "metadata": {
    "ExecuteTime": {
     "end_time": "2021-06-14T03:15:42.346639Z",
     "start_time": "2021-06-14T03:15:42.340857Z"
    }
   },
   "outputs": [],
   "source": [
    "def build_heatmap_simple(df, string):\n",
    "    df_list = [col for col in df.columns if string in col]\n",
    "    df_list.append('deaths')\n",
    "    new_df = pd.DataFrame(df, columns=df_list)\n",
    "    fig, ax = plt.subplots(figsize=(8, 5)) \n",
    "    sns.heatmap(new_df.corr()[['deaths']].sort_values('deaths'),\n",
    "            annot=True,\n",
    "            cmap='twilight',\n",
    "            vmin=-1,\n",
    "            vmax=1\n",
    "           )\n",
    "    plt.title(f'{string} and deaths correlation')\n",
    "    plt.tight_layout()\n",
    "    plt.savefig(f'../visuals/{string}.png', dpi=100);"
   ]
  },
  {
   "cell_type": "code",
   "execution_count": null,
   "id": "1f295b23",
   "metadata": {
    "ExecuteTime": {
     "end_time": "2021-06-14T03:15:43.325012Z",
     "start_time": "2021-06-14T03:15:42.849331Z"
    }
   },
   "outputs": [],
   "source": [
    "build_heatmap_simple(final_df, 'grad')"
   ]
  },
  {
   "cell_type": "markdown",
   "id": "266e18be",
   "metadata": {},
   "source": [
    "**Interpretation:** This graph is not particularly telling, but we could potentially infer that a higher education is correlated to lower death rate"
   ]
  },
  {
   "cell_type": "code",
   "execution_count": null,
   "id": "29f2c968",
   "metadata": {
    "ExecuteTime": {
     "end_time": "2021-06-14T03:15:44.029184Z",
     "start_time": "2021-06-14T03:15:43.327494Z"
    }
   },
   "outputs": [],
   "source": [
    "build_heatmap_simple(final_df, 'income')"
   ]
  },
  {
   "cell_type": "markdown",
   "id": "c33c8280",
   "metadata": {},
   "source": [
    "**Interpretation:** lower income is more positively correlated to death rate"
   ]
  },
  {
   "cell_type": "code",
   "execution_count": null,
   "id": "b25d63e0",
   "metadata": {
    "ExecuteTime": {
     "end_time": "2021-06-14T03:20:37.490233Z",
     "start_time": "2021-06-14T03:20:36.732955Z"
    },
    "scrolled": false
   },
   "outputs": [],
   "source": [
    "build_heatmap_simple(final_df, 'employ')"
   ]
  },
  {
   "cell_type": "markdown",
   "id": "29120da9",
   "metadata": {},
   "source": [
    "**Interpretation:** unemployment and working class occupations have a more positive correlation to death rate"
   ]
  },
  {
   "cell_type": "code",
   "execution_count": null,
   "id": "d2dce34b",
   "metadata": {
    "ExecuteTime": {
     "end_time": "2021-06-14T03:21:38.904377Z",
     "start_time": "2021-06-14T03:21:38.536223Z"
    }
   },
   "outputs": [],
   "source": [
    "build_heatmap_simple(final_df, '20+')"
   ]
  },
  {
   "cell_type": "code",
   "execution_count": null,
   "id": "5eb6edaf",
   "metadata": {
    "ExecuteTime": {
     "end_time": "2021-06-14T03:21:58.245151Z",
     "start_time": "2021-06-14T03:21:57.882914Z"
    }
   },
   "outputs": [],
   "source": [
    "build_heatmap_simple(final_df, '65+')"
   ]
  },
  {
   "cell_type": "code",
   "execution_count": null,
   "id": "aff749e7",
   "metadata": {
    "ExecuteTime": {
     "end_time": "2021-06-14T03:22:06.354286Z",
     "start_time": "2021-06-14T03:22:06.349609Z"
    }
   },
   "outputs": [],
   "source": [
    "final_df.columns"
   ]
  },
  {
   "cell_type": "code",
   "execution_count": null,
   "id": "50de5d2f",
   "metadata": {
    "ExecuteTime": {
     "end_time": "2021-06-14T03:22:06.671277Z",
     "start_time": "2021-06-14T03:22:06.667346Z"
    }
   },
   "outputs": [],
   "source": [
    "final_df.shape"
   ]
  },
  {
   "cell_type": "code",
   "execution_count": null,
   "id": "ad100c55",
   "metadata": {
    "ExecuteTime": {
     "end_time": "2021-06-14T03:22:07.555313Z",
     "start_time": "2021-06-14T03:22:07.553480Z"
    }
   },
   "outputs": [],
   "source": [
    "# from scipy import stats\n",
    "# final_df[(np.abs(stats.zscore(final_df._get_numeric_data())) < 3).all(axis=1)]\n",
    "\n",
    "# dropping outliers removes too much data"
   ]
  },
  {
   "cell_type": "markdown",
   "id": "dfc72aac",
   "metadata": {},
   "source": [
    "### EDA / Data Viz"
   ]
  },
  {
   "cell_type": "markdown",
   "id": "924ad71f",
   "metadata": {},
   "source": [
    "**Plot death rate per county**"
   ]
  },
  {
   "cell_type": "code",
   "execution_count": null,
   "id": "1d50818d",
   "metadata": {
    "ExecuteTime": {
     "end_time": "2021-06-14T03:22:09.172386Z",
     "start_time": "2021-06-14T03:22:09.166486Z"
    }
   },
   "outputs": [],
   "source": [
    "final_df['fips_code'] = final_df['fips_code'].apply(lambda x: str(int(x)).zfill(5))"
   ]
  },
  {
   "cell_type": "code",
   "execution_count": null,
   "id": "99371f5d",
   "metadata": {
    "ExecuteTime": {
     "end_time": "2021-06-14T03:22:14.382725Z",
     "start_time": "2021-06-14T03:22:09.545795Z"
    },
    "scrolled": true
   },
   "outputs": [],
   "source": [
    "from urllib.request import urlopen\n",
    "import json\n",
    "with urlopen('https://raw.githubusercontent.com/plotly/datasets/master/geojson-counties-fips.json') as response:\n",
    "    counties_json = json.load(response)\n",
    "    \n",
    "fig = px.choropleth(final_df, geojson=counties_json, locations=final_df['fips_code'], color='death_rate',\n",
    "                           color_continuous_scale='portland',\n",
    "                           range_color=(0, max(final_df['death_rate'])),\n",
    "                           scope='usa',\n",
    "                           labels={'deaths': 'Death count'},\n",
    "                          )\n",
    "   \n",
    "fig.update_layout(title_text='Covid Death Rate by US county as of June 2021',\n",
    "                 coloraxis_colorbar=dict(title='Death Rate'))\n",
    "fig.show();"
   ]
  },
  {
   "cell_type": "markdown",
   "id": "db823501",
   "metadata": {
    "ExecuteTime": {
     "end_time": "2021-06-13T19:05:19.730787Z",
     "start_time": "2021-06-13T19:05:19.725715Z"
    }
   },
   "source": [
    "**Same map for poverty rate**"
   ]
  },
  {
   "cell_type": "code",
   "execution_count": null,
   "id": "79a8a2c7",
   "metadata": {
    "ExecuteTime": {
     "end_time": "2021-06-14T03:22:18.712231Z",
     "start_time": "2021-06-14T03:22:14.386157Z"
    }
   },
   "outputs": [],
   "source": [
    "with urlopen('https://raw.githubusercontent.com/plotly/datasets/master/geojson-counties-fips.json') as response:\n",
    "    counties_json = json.load(response)\n",
    "    \n",
    "fig = px.choropleth(final_df, geojson=counties_json, locations=final_df['fips_code'], color='poverty_rate',\n",
    "                           color_continuous_scale='portland',\n",
    "                           range_color=(0, max(final_df['poverty_rate'])),\n",
    "                           scope='usa',\n",
    "                           labels={'poverty': 'poverty rate'},\n",
    "                          )\n",
    "   \n",
    "fig.update_layout(title_text='Covid Poverty Rate by US county as of June 2021',\n",
    "                 coloraxis_colorbar=dict(title='Poverty Rate'))\n",
    "fig.show();"
   ]
  },
  {
   "cell_type": "markdown",
   "id": "5162e747",
   "metadata": {},
   "source": [
    "**Ten largest correlations to Poverty Rate**"
   ]
  },
  {
   "cell_type": "code",
   "execution_count": null,
   "id": "d0bf051c",
   "metadata": {
    "ExecuteTime": {
     "end_time": "2021-06-14T02:20:53.114516Z",
     "start_time": "2021-06-14T02:20:51.580946Z"
    }
   },
   "outputs": [],
   "source": [
    "corr_columns = final_df.corr().nlargest(10, 'poverty_rate').index\n",
    "\n",
    "# create heatmap\n",
    "mask = np.zeros_like(final_df[corr_columns].corr(), dtype=np.bool)\n",
    "mask[np.triu_indices_from(mask)]= True\n",
    "\n",
    "f, ax = plt.subplots(figsize=(12, 12))\n",
    "sns.heatmap(final_df[corr_columns].corr(), \n",
    "            annot=True, \n",
    "            square= True, \n",
    "            mask = mask,\n",
    "            cmap=sns.color_palette('twilight', 7),\n",
    "            annot_kws={'size': 12},\n",
    "            cbar_kws={'shrink': 0.5},\n",
    "            linewidth = 0.1,\n",
    "            yticklabels=corr_columns.values, \n",
    "            xticklabels=corr_columns.values,\n",
    "            vmin = -1)\n",
    "ax.set_xlim(0,10)\n",
    "ax.set_ylim(0,10)\n",
    "ax.tick_params(labelsize=8)\n",
    "plt.title('Features with the 10 largest correlations to Poverty Rate', fontsize=16)\n",
    "plt.tight_layout()\n",
    "plt.savefig('../visuals/poverty_corr.png', dpi=100);"
   ]
  },
  {
   "cell_type": "code",
   "execution_count": null,
   "id": "b9f20741",
   "metadata": {
    "ExecuteTime": {
     "end_time": "2021-06-14T02:20:54.545508Z",
     "start_time": "2021-06-14T02:20:53.116416Z"
    }
   },
   "outputs": [],
   "source": [
    "corr_columns = final_df.corr().nlargest(10, 'death_rate').index\n",
    "\n",
    "# create heatmap\n",
    "mask = np.zeros_like(final_df[corr_columns].corr(), dtype=np.bool)\n",
    "mask[np.triu_indices_from(mask)]= True\n",
    "\n",
    "f, ax = plt.subplots(figsize=(12, 12))\n",
    "sns.heatmap(final_df[corr_columns].corr(), \n",
    "            annot=True, \n",
    "            square= True, \n",
    "            mask = mask,\n",
    "            cmap=sns.color_palette('twilight', 7),\n",
    "            annot_kws={'size': 12},\n",
    "            cbar_kws={'shrink': 0.5},\n",
    "            linewidth = 0.1,\n",
    "            yticklabels=corr_columns.values, \n",
    "            xticklabels=corr_columns.values,\n",
    "            vmin = -1)\n",
    "ax.set_xlim(0,10)\n",
    "ax.set_ylim(0,10)\n",
    "ax.tick_params(labelsize=8)\n",
    "plt.title('Features with the 10 largest correlations to Death Rate', fontsize=16)\n",
    "plt.tight_layout()\n",
    "plt.savefig('../visuals/death_corr.png', dpi=100);"
   ]
  },
  {
   "cell_type": "markdown",
   "id": "a90656ec",
   "metadata": {},
   "source": [
    "### Other visualizations"
   ]
  },
  {
   "cell_type": "code",
   "execution_count": null,
   "id": "a408452a",
   "metadata": {
    "ExecuteTime": {
     "end_time": "2021-06-14T02:20:58.186021Z",
     "start_time": "2021-06-14T02:20:54.547309Z"
    },
    "scrolled": true
   },
   "outputs": [],
   "source": [
    "#staffed beds per county to visualize hospital preparedness\n",
    " \n",
    "fig = px.choropleth(final_df, geojson=counties_json, locations=final_df['fips_code'], color='staffed_icu_beds',\n",
    "                           color_continuous_scale='deep',\n",
    "                           range_color=(0, max(final_df['staffed_icu_beds'])),\n",
    "                           scope='usa',\n",
    "                           labels={'staffed_icu_beds': 'Staffed ICU bed count'},\n",
    "                          )\n",
    "   \n",
    "fig.update_layout(title_text='Staffed ICU beds per US county as of June 2021')\n",
    "fig.show()\n",
    "plt.savefig('../visuals/icu_beds.png', dpi=100);"
   ]
  }
 ],
 "metadata": {
  "kernelspec": {
   "display_name": "Python 3",
   "language": "python",
   "name": "python3"
  },
  "language_info": {
   "codemirror_mode": {
    "name": "ipython",
    "version": 3
   },
   "file_extension": ".py",
   "mimetype": "text/x-python",
   "name": "python",
   "nbconvert_exporter": "python",
   "pygments_lexer": "ipython3",
   "version": "3.9.2"
  }
 },
 "nbformat": 4,
 "nbformat_minor": 5
}
